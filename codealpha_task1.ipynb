{
 "cells": [
  {
   "cell_type": "code",
   "execution_count": 2,
   "id": "8affc299-5b80-407f-94ce-601970145f65",
   "metadata": {},
   "outputs": [
    {
     "name": "stdout",
     "output_type": "stream",
     "text": [
      "Welcome to Sanjay Shriram Hangman Death Game!\n",
      "Guess the word one letter at a time.\n",
      "You have 6 incorrect guesses allowed.\n",
      "\n",
      "\n",
      "    DEATH COMES AS REAL MADRID - SANJAY SHRIRAM\n",
      "      +---+\n",
      "          |\n",
      "          |\n",
      "          |\n",
      "         ===\n",
      "    \n",
      "Current Word: _ _ _ _\n"
     ]
    },
    {
     "name": "stdin",
     "output_type": "stream",
     "text": [
      "Enter a letter:  s\n"
     ]
    },
    {
     "name": "stdout",
     "output_type": "stream",
     "text": [
      " Wrong guess! Tries left: 5\n",
      "\n",
      "\n",
      "    DEATH COMES AS REAL MADRID - SANJAY SHRIRAM\n",
      "      +---+\n",
      "      O   |\n",
      "          |\n",
      "          |\n",
      "         ===\n",
      "    \n",
      "Current Word: _ _ _ _\n"
     ]
    },
    {
     "name": "stdin",
     "output_type": "stream",
     "text": [
      "Enter a letter:  a\n"
     ]
    },
    {
     "name": "stdout",
     "output_type": "stream",
     "text": [
      " Wrong guess! Tries left: 4\n",
      "\n",
      "\n",
      "    DEATH COMES AS REAL MADRID - SANJAY SHRIRAM\n",
      "      +---+\n",
      "      O   |\n",
      "      |   |\n",
      "          |\n",
      "         ===\n",
      "    \n",
      "Current Word: _ _ _ _\n"
     ]
    },
    {
     "name": "stdin",
     "output_type": "stream",
     "text": [
      "Enter a letter:  n\n"
     ]
    },
    {
     "name": "stdout",
     "output_type": "stream",
     "text": [
      " Wrong guess! Tries left: 3\n",
      "\n",
      "\n",
      "    DEATH COMES AS REAL MADRID - SANJAY SHRIRAM\n",
      "      +---+\n",
      "      O   |\n",
      "     /|   |\n",
      "          |\n",
      "         ===\n",
      "    \n",
      "Current Word: _ _ _ _\n"
     ]
    },
    {
     "name": "stdin",
     "output_type": "stream",
     "text": [
      "Enter a letter:  p\n"
     ]
    },
    {
     "name": "stdout",
     "output_type": "stream",
     "text": [
      " Wrong guess! Tries left: 2\n",
      "\n",
      "\n",
      "    DEATH COMES AS REAL MADRID - SANJAY SHRIRAM\n",
      "      +---+\n",
      "      O   |\n",
      "     /|\\  |\n",
      "          |\n",
      "         ===\n",
      "    \n",
      "Current Word: _ _ _ _\n"
     ]
    },
    {
     "name": "stdin",
     "output_type": "stream",
     "text": [
      "Enter a letter:  e\n"
     ]
    },
    {
     "name": "stdout",
     "output_type": "stream",
     "text": [
      "✅ Good guess!\n",
      "\n",
      "\n",
      "    DEATH COMES AS REAL MADRID - SANJAY SHRIRAM\n",
      "      +---+\n",
      "      O   |\n",
      "     /|\\  |\n",
      "          |\n",
      "         ===\n",
      "    \n",
      "Current Word: _ _ _ e\n"
     ]
    },
    {
     "name": "stdin",
     "output_type": "stream",
     "text": [
      "Enter a letter:  c\n"
     ]
    },
    {
     "name": "stdout",
     "output_type": "stream",
     "text": [
      "✅ Good guess!\n",
      "\n",
      "\n",
      "    DEATH COMES AS REAL MADRID - SANJAY SHRIRAM\n",
      "      +---+\n",
      "      O   |\n",
      "     /|\\  |\n",
      "          |\n",
      "         ===\n",
      "    \n",
      "Current Word: c _ _ e\n"
     ]
    },
    {
     "name": "stdin",
     "output_type": "stream",
     "text": [
      "Enter a letter:  o\n"
     ]
    },
    {
     "name": "stdout",
     "output_type": "stream",
     "text": [
      "✅ Good guess!\n",
      "\n",
      "\n",
      "    DEATH COMES AS REAL MADRID - SANJAY SHRIRAM\n",
      "      +---+\n",
      "      O   |\n",
      "     /|\\  |\n",
      "          |\n",
      "         ===\n",
      "    \n",
      "Current Word: c o _ e\n"
     ]
    },
    {
     "name": "stdin",
     "output_type": "stream",
     "text": [
      "Enter a letter:  d\n"
     ]
    },
    {
     "name": "stdout",
     "output_type": "stream",
     "text": [
      "✅ Good guess!\n",
      "\n",
      "You guessed the word: code\n"
     ]
    }
   ],
   "source": [
    "import random\n",
    "\n",
    "word_list = [\"sanjay\", \"shriram\", \"code\", \"alpha\", \"python\"]\n",
    "\n",
    "# (using raw strings to fix warnings)\n",
    "HANGMAN_PICS = [\n",
    "    r\"\"\"\n",
    "    DEATH COMES AS REAL MADRID - SANJAY SHRIRAM\n",
    "      +---+\n",
    "          |\n",
    "          |\n",
    "          |\n",
    "         ===\n",
    "    \"\"\",\n",
    "    r\"\"\"\n",
    "    DEATH COMES AS REAL MADRID - SANJAY SHRIRAM\n",
    "      +---+\n",
    "      O   |\n",
    "          |\n",
    "          |\n",
    "         ===\n",
    "    \"\"\",\n",
    "    r\"\"\"\n",
    "    DEATH COMES AS REAL MADRID - SANJAY SHRIRAM\n",
    "      +---+\n",
    "      O   |\n",
    "      |   |\n",
    "          |\n",
    "         ===\n",
    "    \"\"\",\n",
    "    r\"\"\"\n",
    "    DEATH COMES AS REAL MADRID - SANJAY SHRIRAM\n",
    "      +---+\n",
    "      O   |\n",
    "     /|   |\n",
    "          |\n",
    "         ===\n",
    "    \"\"\",\n",
    "    r\"\"\"\n",
    "    DEATH COMES AS REAL MADRID - SANJAY SHRIRAM\n",
    "      +---+\n",
    "      O   |\n",
    "     /|\\  |\n",
    "          |\n",
    "         ===\n",
    "    \"\"\",\n",
    "    r\"\"\"\n",
    "    DEATH COMES AS REAL MADRID - SANJAY SHRIRAM\n",
    "      +---+\n",
    "      O   |\n",
    "     /|\\  |\n",
    "     /    |\n",
    "         ===\n",
    "    \"\"\",\n",
    "    r\"\"\"\n",
    "    DEATH COMES AS REAL MADRID - SANJAY SHRIRAM\n",
    "      +---+\n",
    "      O   |\n",
    "     /|\\  |\n",
    "     / \\  |\n",
    "         ===\n",
    "    \"\"\"\n",
    "]\n",
    "\n",
    "selected_word = random.choice(word_list)\n",
    "guessed_letters = []\n",
    "tries = 6\n",
    "\n",
    "print(\"Welcome to Sanjay Shriram Hangman Death Game!\")\n",
    "print(\"Guess the word one letter at a time.\")\n",
    "print(\"You have 6 incorrect guesses allowed.\\n\")\n",
    "\n",
    "display_word = [\"_\"] * len(selected_word)\n",
    "\n",
    "while tries > 0 and \"_\" in display_word:\n",
    "    print(HANGMAN_PICS[6 - tries])  # Show drawing\n",
    "    print(\"Current Word:\", \" \".join(display_word))\n",
    "    guess = input(\"Enter a letter: \").lower()\n",
    "\n",
    "    if len(guess) != 1 or not guess.isalpha():\n",
    "        print(\" Please enter a valid letter.\\n\")\n",
    "        continue\n",
    "\n",
    "    if guess in guessed_letters:\n",
    "        print(\"❗ Already guessed that letter.\\n\")\n",
    "        continue\n",
    "\n",
    "    guessed_letters.append(guess)\n",
    "\n",
    "    if guess in selected_word:\n",
    "        print(\"✅ Good guess!\\n\")\n",
    "        for i in range(len(selected_word)):\n",
    "            if selected_word[i] == guess:\n",
    "                display_word[i] = guess\n",
    "    else:\n",
    "        tries -= 1\n",
    "        print(f\" Wrong guess! Tries left: {tries}\\n\")\n",
    "\n",
    "# Final result\n",
    "if \"_\" not in display_word:\n",
    "    print(\"You guessed the word:\", selected_word)\n",
    "else:\n",
    "    print(HANGMAN_PICS[6])\n",
    "    print(\"Game Over! You are DEAD!!! The word was:\", selected_word)\n"
   ]
  },
  {
   "cell_type": "code",
   "execution_count": null,
   "id": "8e15357e-119c-4988-b379-4170a43192aa",
   "metadata": {},
   "outputs": [],
   "source": []
  }
 ],
 "metadata": {
  "kernelspec": {
   "display_name": "Python 3 (ipykernel)",
   "language": "python",
   "name": "python3"
  },
  "language_info": {
   "codemirror_mode": {
    "name": "ipython",
    "version": 3
   },
   "file_extension": ".py",
   "mimetype": "text/x-python",
   "name": "python",
   "nbconvert_exporter": "python",
   "pygments_lexer": "ipython3",
   "version": "3.13.5"
  }
 },
 "nbformat": 4,
 "nbformat_minor": 5
}
